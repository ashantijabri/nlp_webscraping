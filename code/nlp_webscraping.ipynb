{
 "cells": [
  {
   "cell_type": "markdown",
   "metadata": {},
   "source": [
    "<img src=\"https://imgur.com/gallery/07IZW\" style=\"float: left; margin: 20px; height: 55px\"> \n",
    "\n",
    "# Rage Against the Machine:\n",
    "## Ethics, Privacy & Artificial Intelligence\n",
    "\n",
    "AI presents three major areas of ethical concern for society: privacy and surveillance, bias and discrimination, and perhaps the deepest, most difficult philosophical question of the era, the role of human judgment and it’s relative importance.\n",
    "\n",
    "I hypothesize that the rate of advancement in Artificial Intelligence and Machine Learning far outpaces humans' ability to reasonably adapt to the seemingly endless ethical dilemmas presented by evolving technology. Furthermore, I believe that without a continuous and deliberate consideration of the morality of AI, we may find ourselves in a society where human rights are significantly deprioritized in the name of innovation.\n",
    "\n",
    "Using Machine Learning, I will demonstrate how powerful Artificial Intelligence can be, and how that level of “intelligence” could be detrimental.\n",
    "\n",
    "----"
   ]
  },
  {
   "cell_type": "markdown",
   "metadata": {},
   "source": [
    "# Import Libraries\n",
    "----"
   ]
  },
  {
   "cell_type": "code",
   "execution_count": 3,
   "metadata": {},
   "outputs": [],
   "source": [
    "import requests\n",
    "import pandas as pd\n",
    "import numpy as np\n",
    "import seaborn as sns\n",
    "from nltk.tokenize import sent_tokenize, word_tokenize, RegexpTokenizer\n",
    "from nltk.stem import WordNetLemmatizer\n",
    "from nltk.stem.porter import PorterStemmer\n",
    "from nltk.corpus import stopwords\n",
    "from nltk.sentiment.vader import SentimentIntensityAnalyzer\n",
    "import re\n",
    "import matplotlib.pyplot as plt\n",
    "from sklearn.model_selection import train_test_split, GridSearchCV,cross_val_score\n",
    "from sklearn.pipeline import Pipeline\n",
    "from sklearn.naive_bayes import MultinomialNB\n",
    "from sklearn.linear_model import LogisticRegression\n",
    "from sklearn.metrics import confusion_matrix, plot_confusion_matrix, classification_report\n",
    "from sklearn.feature_extraction.text import CountVectorizer, TfidfVectorizer\n",
    "from sklearn.ensemble import RandomForestClassifier, ExtraTreesClassifier\n",
    "from sklearn.svm import SVC\n",
    "from xgboost import XGBClassifier"
   ]
  },
  {
   "cell_type": "code",
   "execution_count": 190,
   "metadata": {},
   "outputs": [],
   "source": [
    "df = pd.read_csv('./reddit_full.csv')"
   ]
  },
  {
   "cell_type": "markdown",
   "metadata": {},
   "source": [
    "# Web Scraping and Creating DataFrame\n",
    "\n",
    "The webscraping code remains, but is commented out, to avoid spilling further Data into our Dataframe. Using the code below, we pulled in 2000 post, 1000 from each subreddit. Most of the post in our subreddits didn't include body text, so that column was removed as well. The meat of our data is the actual post titles themselves, and that is our lone X variable.\n",
    "\n",
    "----"
   ]
  },
  {
   "cell_type": "code",
   "execution_count": 189,
   "metadata": {},
   "outputs": [],
   "source": [
    "# url = 'https://api.pushshift.io/reddit/search/submission'\n",
    "\n",
    "# params = {\n",
    "#     'subreddit': 'samsung',\n",
    "#     'size': 100,\n",
    "#     'before': 1615973288\n",
    "# }\n",
    "\n",
    "# res = requests.get(url, params)\n",
    "\n",
    "# res.status_code"
   ]
  },
  {
   "cell_type": "code",
   "execution_count": 157,
   "metadata": {},
   "outputs": [],
   "source": [
    "# data = res.json()"
   ]
  },
  {
   "cell_type": "code",
   "execution_count": 183,
   "metadata": {},
   "outputs": [],
   "source": [
    "# posts = data['data']"
   ]
  },
  {
   "cell_type": "code",
   "execution_count": 184,
   "metadata": {},
   "outputs": [],
   "source": [
    "# posts[0]['created_utc']"
   ]
  },
  {
   "cell_type": "code",
   "execution_count": 185,
   "metadata": {},
   "outputs": [],
   "source": [
    "# for_merge = pd.DataFrame(posts)"
   ]
  },
  {
   "cell_type": "code",
   "execution_count": 186,
   "metadata": {},
   "outputs": [],
   "source": [
    "# reddit_df = pd.concat([reddit_df, for_merge])"
   ]
  },
  {
   "cell_type": "code",
   "execution_count": 187,
   "metadata": {},
   "outputs": [],
   "source": [
    "# reddit_df.shape"
   ]
  },
  {
   "cell_type": "code",
   "execution_count": 188,
   "metadata": {},
   "outputs": [],
   "source": [
    "# df = reddit_df[['subreddit', 'selftext', 'title']]"
   ]
  },
  {
   "cell_type": "code",
   "execution_count": 172,
   "metadata": {},
   "outputs": [],
   "source": [
    "# df.reset_index(drop=True, inplace = True)"
   ]
  },
  {
   "cell_type": "markdown",
   "metadata": {},
   "source": [
    "# Data Cleaning\n",
    "\n",
    "Nothing to do here except isolate our X variable, and map our y to \"1\" and \"0\". Because of the rules within the subreddits I chose, empty posts and post without a title are not allowed, so we have no Nulls. We will also be vectorizing the Text data in during our modeling, so there may be a need to clean more at a later point in the project.\n",
    "\n",
    "----"
   ]
  },
  {
   "cell_type": "code",
   "execution_count": 181,
   "metadata": {},
   "outputs": [],
   "source": [
    "# df['subreddit'] = df['subreddit'].map({0: 0, 1: 1, 'samsung': 2, 'iphone': 3})"
   ]
  },
  {
   "cell_type": "code",
   "execution_count": 182,
   "metadata": {},
   "outputs": [],
   "source": [
    "# df.drop(columns='selftext', inplace = True)"
   ]
  },
  {
   "cell_type": "code",
   "execution_count": 180,
   "metadata": {},
   "outputs": [
    {
     "data": {
      "text/plain": [
       "0    1000\n",
       "2    1000\n",
       "1    1000\n",
       "3    1000\n",
       "Name: subreddit, dtype: int64"
      ]
     },
     "execution_count": 180,
     "metadata": {},
     "output_type": "execute_result"
    }
   ],
   "source": [
    "# df['subreddit'].value_counts()"
   ]
  },
  {
   "cell_type": "markdown",
   "metadata": {},
   "source": [
    "# EDA using KMeans and PCA to Visualize Clusters and text relationships\n",
    "\n",
    "It could be beneficial to check out some of the relationships between certain words. These two subreddits have tremendous amounts of overlap, where the sometimes the only differences are in sentiment. Let's take a precurser look at how the machine will handle the similarities.\n",
    "\n",
    "----"
   ]
  },
  {
   "cell_type": "code",
   "execution_count": 280,
   "metadata": {},
   "outputs": [
    {
     "data": {
      "text/plain": [
       "KMeans(max_iter=500, n_clusters=4)"
      ]
     },
     "execution_count": 280,
     "metadata": {},
     "output_type": "execute_result"
    }
   ],
   "source": [
    "from sklearn.cluster import KMeans\n",
    "X = df['title']\n",
    "\n",
    "tv = TfidfVectorizer(max_features=5000, ngram_range=(1,1), stop_words='english')\n",
    "X = tv.fit_transform(X)\n",
    "\n",
    "\n",
    "\n",
    "NUMBER_OF_CLUSTERS = 4\n",
    "km = KMeans(\n",
    "    n_clusters=NUMBER_OF_CLUSTERS, \n",
    "    init='k-means++', \n",
    "    max_iter=500)\n",
    "km.fit(X)"
   ]
  },
  {
   "cell_type": "code",
   "execution_count": 290,
   "metadata": {},
   "outputs": [
    {
     "data": {
      "image/png": "[encoded data removed]",
      "text/plain": [
       "<Figure size 2000x1000 with 1 Axes>"
      ]
     },
     "metadata": {},
     "output_type": "display_data"
    },
    {
     "data": {
      "text/plain": [
       "<Figure size 640x480 with 0 Axes>"
      ]
     },
     "metadata": {},
     "output_type": "display_data"
    }
   ],
   "source": [
    "from sklearn.decomposition import PCA\n",
    "\n",
    "clusters = km.predict(X)\n",
    " \n",
    "pca = PCA(n_components=6)\n",
    "two_dim = pca.fit_transform(X.todense())\n",
    "\n",
    "scatter_x = two_dim[:, 0]\n",
    "scatter_y = two_dim[:, 1] \n",
    "\n",
    "# Credit to Saftophobia over at stackexchange for the help in making this awesome plot!\n",
    "\n",
    "plt.style.use('default')\n",
    "\n",
    "fig, ax = plt.subplots()\n",
    "fig.set_size_inches(20,10)\n",
    "\n",
    "cmap = {0: 'green', 1: 'blue', 2: 'red', 3: 'purple'}\n",
    "\n",
    "\n",
    "for group in np.unique(clusters):\n",
    "    ix = np.where(clusters == group)\n",
    "    ax.scatter(scatter_x[ix], scatter_y[ix], c=cmap[group], label=group)\n",
    "\n",
    "ax.legend()\n",
    "plt.xlabel(\"PCA 0\")\n",
    "plt.ylabel(\"PCA 1\")\n",
    "plt.show();\n",
    "\n",
    "plt.savefig('./clustermap.png', dpi = 500)"
   ]
  },
  {
   "cell_type": "markdown",
   "metadata": {},
   "source": [
    "The Scatter plot above is a visualization of our Kmeans clustering, showing the relationships our Machine Learning model found within our Data."
   ]
  },
  {
   "cell_type": "code",
   "execution_count": 283,
   "metadata": {},
   "outputs": [
    {
     "name": "stdout",
     "output_type": "stream",
     "text": [
      "Cluster 0: apple android app help phone google s21 play battery event\n",
      "Cluster 1: iphone 12 new firmware pda sm pro 11 apple sim\n",
      "Cluster 2: samsung galaxy note a52 series 5g year unpacked chip 2021\n",
      "Cluster 3: m1 macbook ipad air vs pro 13 mac apple intel\n"
     ]
    }
   ],
   "source": [
    "order_centroids = km.cluster_centers_.argsort()[:, ::-1]\n",
    "\n",
    "terms = tv.get_feature_names()\n",
    "for i in range(4):\n",
    "    print(\"Cluster %d:\" % i, end='')\n",
    "    for ind in order_centroids[i, :10]:\n",
    "        print(' %s' % terms[ind], end='')\n",
    "    print()"
   ]
  },
  {
   "cell_type": "markdown",
   "metadata": {},
   "source": [
    "These are the first 10 words within each of the 4 clusters."
   ]
  },
  {
   "cell_type": "code",
   "execution_count": 287,
   "metadata": {},
   "outputs": [
    {
     "data": {
      "image/png": "[encoded data removed]",
      "text/plain": [
       "<Figure size 864x576 with 1 Axes>"
      ]
     },
     "metadata": {},
     "output_type": "display_data"
    }
   ],
   "source": [
    "X_train_df = pd.DataFrame(X.todense(), \n",
    "                          columns=tv.get_feature_names())\n",
    "\n",
    "\n",
    "X_train_df.sum().sort_values(ascending=False).head(15).plot(kind='barh', figsize = (12,8), ylabel = 'Word Count');\n",
    "\n",
    "plt.savefig('./wordcount.png', dpi=500)"
   ]
  },
  {
   "cell_type": "markdown",
   "metadata": {},
   "source": [
    "The Bar plot above shows the 15 most common words within our Data Frame. "
   ]
  },
  {
   "cell_type": "markdown",
   "metadata": {},
   "source": [
    "# Preprocessing and Modeling\n",
    "\n",
    "We'll be running our Data through a number of different pipelines to determine the best parameters and Estimators for our model. We'll Gridsearch through the Pipes, fitting a few thousand models in the process. \n",
    "\n",
    "----"
   ]
  },
  {
   "cell_type": "code",
   "execution_count": 201,
   "metadata": {},
   "outputs": [],
   "source": [
    "X = df['title']\n",
    "\n",
    "y = df['subreddit']\n",
    "\n",
    "X_train, X_test, y_train, y_test = train_test_split(X,\n",
    "                                                   y,\n",
    "                                                   stratify = y,\n",
    "                                                   test_size = .33,\n",
    "                                                   random_state=808)"
   ]
  },
  {
   "cell_type": "markdown",
   "metadata": {},
   "source": [
    "#### Null Model"
   ]
  },
  {
   "cell_type": "code",
   "execution_count": 202,
   "metadata": {},
   "outputs": [
    {
     "data": {
      "text/plain": [
       "1.5"
      ]
     },
     "execution_count": 202,
     "metadata": {},
     "output_type": "execute_result"
    }
   ],
   "source": [
    "y.mean()"
   ]
  },
  {
   "cell_type": "markdown",
   "metadata": {},
   "source": [
    "# Pipelines\n",
    "\n",
    "### TfidfVectorizer Pipe"
   ]
  },
  {
   "cell_type": "code",
   "execution_count": 293,
   "metadata": {},
   "outputs": [],
   "source": [
    "pipe_lr = Pipeline([\n",
    "    ('tvec', TfidfVectorizer()),\n",
    "    ('lr', LogisticRegression())\n",
    "])\n",
    "\n",
    "pipe_lr_params = {\n",
    "    \n",
    "    'tvec__max_features': [2_000, 3_000, 4_000, 5_000],\n",
    "    'tvec__stop_words': [None, 'english'],\n",
    "    'tvec__ngram_range': [(1,1), (1,2)],\n",
    "    'lr__C': [0.001,0.01,1]\n",
    "        \n",
    "}\n",
    "    \n",
    "\n",
    "# --------------------------------\n",
    "\n",
    "pipe_mb = Pipeline([\n",
    "    ('tvec', TfidfVectorizer()),\n",
    "    ('nb', MultinomialNB())\n",
    "])\n",
    "\n",
    "pipe_mb_params = {\n",
    "    'tvec__max_features': [2_000, 3_000, 4_000, 5_000],\n",
    "    'tvec__stop_words': [None, 'english'],\n",
    "    'tvec__ngram_range': [(1,1), (1,2)],\n",
    "    'nb__alpha': [1,5,10]\n",
    "}\n",
    "\n",
    "# --------------------------------\n",
    "\n",
    "pipe_rf = Pipeline([\n",
    "    ('tvec', TfidfVectorizer()),\n",
    "    ('rf', RandomForestClassifier())\n",
    "])\n",
    "\n",
    "pipe_rf_params = {\n",
    "    \n",
    "    'tvec__max_features': [2_000, 3_000, 4_000, 5_000],\n",
    "    'tvec__stop_words': [None, 'english'],\n",
    "    'tvec__ngram_range': [(1,1), (1,2)],\n",
    "    'rf__n_estimators': [100, 150, 200],\n",
    "    'rf__max_depth': [None, 1, 2, 3, 4, 5],\n",
    "}\n",
    "# --------------------------------\n",
    "\n",
    "pipe_svc = Pipeline([\n",
    "    ('tvec', TfidfVectorizer()),\n",
    "    ('svc', SVC())\n",
    "])\n",
    "\n",
    "pipe_svc_params = {\n",
    "    \n",
    "    'tvec__max_features': [2_000, 3_000, 4_000, 5_000],\n",
    "    'tvec__stop_words': [None, 'english'],\n",
    "    'tvec__ngram_range': [(1,1), (1,2)],\n",
    "    'svc__C':np.arange(1, 5, 20),\n",
    "    'svc__kernel':['linear', 'rbf', 'polynomial','sigmoid'],\n",
    "    'svc__degree':[1, 2, 3, 4]\n",
    "}\n",
    "\n",
    "# --------------------------------\n",
    "\n",
    "pipe_xgb = Pipeline([\n",
    "    ('tvec', TfidfVectorizer()),\n",
    "    ('xgb', XGBClassifier(use_label_encoder=False, objective='binary:logistic', learning_rate = 0.02, verbosity = 0))\n",
    "])\n",
    "\n",
    "pipe_xgb_params = {\n",
    "    \n",
    "    'tvec__max_features': [2_000, 3_000, 4_000, 5_000],\n",
    "    'tvec__stop_words': [None, 'english'],\n",
    "    'tvec__ngram_range': [(1,1), (1,2)],\n",
    "    \n",
    "}\n",
    "\n",
    "# --------------------------------\n",
    "gs_lr_tvec = GridSearchCV(pipe_lr, pipe_lr_params, cv=3, verbose=1)\n",
    "gs_mb_tvec = GridSearchCV(pipe_mb, pipe_mb_params, cv=3, verbose=1)\n",
    "gs_rf_tvec = GridSearchCV(pipe_rf, pipe_rf_params, cv=3, verbose=1)\n",
    "gs_svc_tvec = GridSearchCV(pipe_svc, pipe_svc_params, cv=3, verbose=1)\n",
    "gs_xgb_tvec = GridSearchCV(pipe_xgb, pipe_xgb_params, cv =3, verbose=1)"
   ]
  },
  {
   "cell_type": "markdown",
   "metadata": {},
   "source": [
    "### CountVectorizer Pipe"
   ]
  },
  {
   "cell_type": "code",
   "execution_count": 204,
   "metadata": {},
   "outputs": [],
   "source": [
    "pipe_lr = Pipeline([\n",
    "    ('cvec', CountVectorizer()),\n",
    "    ('lr', LogisticRegression())\n",
    "])\n",
    "\n",
    "pipe_lr_params = {\n",
    "    \n",
    "    'cvec__max_features': [2_000, 3_000, 4_000, 5_000],\n",
    "    'cvec__min_df': [2, 3],\n",
    "    'cvec__max_df': [.9, .95],\n",
    "    'cvec__ngram_range': [(1,1), (1,2)],\n",
    "    'lr__C': [0.001,0.01,1]\n",
    "        \n",
    "}\n",
    "    \n",
    "\n",
    "# --------------------------------\n",
    "\n",
    "pipe_mb = Pipeline([\n",
    "    ('cvec', CountVectorizer()),\n",
    "    ('nb', MultinomialNB())\n",
    "])\n",
    "\n",
    "pipe_mb_params = {\n",
    "    'cvec__max_features': [2_000, 3_000, 4_000, 5_000],\n",
    "    'cvec__min_df': [2, 3],\n",
    "    'cvec__max_df': [.9, .95],\n",
    "    'cvec__ngram_range': [(1,1), (1,2)],\n",
    "    'nb__alpha': [1,5,10]\n",
    "}\n",
    "\n",
    "# --------------------------------\n",
    "\n",
    "pipe_rf = Pipeline([\n",
    "    ('cvec', CountVectorizer()),\n",
    "    ('rf', RandomForestClassifier())\n",
    "])\n",
    "\n",
    "pipe_rf_params = {\n",
    "    \n",
    "    'cvec__max_features': [2_000, 3_000, 4_000, 5_000],\n",
    "    'cvec__min_df': [2, 3],\n",
    "    'cvec__max_df': [.9, .95],\n",
    "    'cvec__ngram_range': [(1,1), (1,2)],\n",
    "    'rf__n_estimators': [100, 150, 200],\n",
    "}\n",
    "# --------------------------------\n",
    "\n",
    "pipe_svc = Pipeline([\n",
    "    ('cvec', CountVectorizer()),\n",
    "    ('svc', SVC())\n",
    "])\n",
    "\n",
    "pipe_svc_params = {\n",
    "    \n",
    "    'cvec__max_features': [2_000, 3_000, 4_000, 5_000],\n",
    "    'cvec__min_df': [2, 3],\n",
    "    'cvec__max_df': [.9, .95],\n",
    "    'cvec__ngram_range': [(1,1), (1,2)],\n",
    "    'svc__C':np.arange(1, 5, 20),\n",
    "\n",
    "}\n",
    "\n",
    "# --------------------------------\n",
    "\n",
    "pipe_xgb = Pipeline([\n",
    "    ('cvec', CountVectorizer()),\n",
    "    ('xgb', XGBClassifier(use_label_encoder=False, objective='binary:logistic', learning_rate = 0.02, verbosity = 0))\n",
    "])\n",
    "\n",
    "pipe_xgb_params = {\n",
    "    'cvec__max_features': [2_000, 3_000, 4_000, 5_000],\n",
    "    'cvec__min_df': [2, 3],\n",
    "    'cvec__max_df': [.9, .95],\n",
    "    'cvec__ngram_range': [(1,1), (1,2)],\n",
    "    \n",
    "}\n",
    "\n",
    "# --------------------------------\n",
    "\n",
    "gs_lr_cvec = GridSearchCV(pipe_lr, pipe_lr_params, cv=3,verbose=1)\n",
    "gs_mb_cvec = GridSearchCV(pipe_mb, pipe_mb_params, cv=3, verbose=1)\n",
    "gs_rf_cvec = GridSearchCV(pipe_rf, pipe_rf_params, cv=3, verbose=1)\n",
    "gs_svc_cvec = GridSearchCV(pipe_svc, pipe_svc_params, cv=3, verbose=1)\n",
    "gs_xgb_cvec = GridSearchCV(pipe_xgb, pipe_xgb_params, cv =3, verbose=1)\n"
   ]
  },
  {
   "cell_type": "code",
   "execution_count": 292,
   "metadata": {},
   "outputs": [],
   "source": [
    "gs_lr_tvec.fit(X_train, y_train)\n",
    "gs_mb_tvec.fit(X_train, y_train)\n",
    "gs_rf_tvec.fit(X_train, y_train)\n",
    "gs_svc_tvec.fit(X_train, y_train)\n",
    "gs_xgb_tvec.fit(X_train, y_train)\n",
    "\n",
    "# --------------------------------\n",
    "\n",
    "gs_lr_cvec.fit(X_train, y_train)\n",
    "gs_mb_cvec.fit(X_train, y_train)\n",
    "gs_rf_cvec.fit(X_train, y_train)\n",
    "gs_svc_cvec.fit(X_train, y_train)\n",
    "gs_xgb_cvec.fit(X_train, y_train)"
   ]
  },
  {
   "cell_type": "markdown",
   "metadata": {},
   "source": [
    "### GridSearch Results"
   ]
  },
  {
   "cell_type": "code",
   "execution_count": 206,
   "metadata": {},
   "outputs": [
    {
     "data": {
      "text/html": [
       "<div>\n",
       "<style scoped>\n",
       "    .dataframe tbody tr th:only-of-type {\n",
       "        vertical-align: middle;\n",
       "    }\n",
       "\n",
       "    .dataframe tbody tr th {\n",
       "        vertical-align: top;\n",
       "    }\n",
       "\n",
       "    .dataframe thead th {\n",
       "        text-align: right;\n",
       "    }\n",
       "</style>\n",
       "<table border=\"1\" class=\"dataframe\">\n",
       "  <thead>\n",
       "    <tr style=\"text-align: right;\">\n",
       "      <th></th>\n",
       "      <th>train</th>\n",
       "      <th>test</th>\n",
       "    </tr>\n",
       "  </thead>\n",
       "  <tbody>\n",
       "    <tr>\n",
       "      <th>cvec Logisitc Regression scores</th>\n",
       "      <td>0.985821</td>\n",
       "      <td>0.977273</td>\n",
       "    </tr>\n",
       "    <tr>\n",
       "      <th>cvec MultinomialNB scores</th>\n",
       "      <td>0.976866</td>\n",
       "      <td>0.967424</td>\n",
       "    </tr>\n",
       "    <tr>\n",
       "      <th>cvec Random Forest scores</th>\n",
       "      <td>0.986940</td>\n",
       "      <td>0.981061</td>\n",
       "    </tr>\n",
       "    <tr>\n",
       "      <th>cvec SVC scores</th>\n",
       "      <td>0.985821</td>\n",
       "      <td>0.976515</td>\n",
       "    </tr>\n",
       "    <tr>\n",
       "      <th>cvec XGBoost scores</th>\n",
       "      <td>0.847761</td>\n",
       "      <td>0.800758</td>\n",
       "    </tr>\n",
       "    <tr>\n",
       "      <th>tvec Logisitc Regression scores</th>\n",
       "      <td>0.986567</td>\n",
       "      <td>0.978788</td>\n",
       "    </tr>\n",
       "    <tr>\n",
       "      <th>tvec MultinomialNB scores</th>\n",
       "      <td>0.986567</td>\n",
       "      <td>0.978788</td>\n",
       "    </tr>\n",
       "    <tr>\n",
       "      <th>tvec Random Forest scores</th>\n",
       "      <td>0.986940</td>\n",
       "      <td>0.980303</td>\n",
       "    </tr>\n",
       "    <tr>\n",
       "      <th>tvec SVC scores</th>\n",
       "      <td>0.986940</td>\n",
       "      <td>0.980303</td>\n",
       "    </tr>\n",
       "    <tr>\n",
       "      <th>tvec XGBoost scores</th>\n",
       "      <td>0.869030</td>\n",
       "      <td>0.831818</td>\n",
       "    </tr>\n",
       "  </tbody>\n",
       "</table>\n",
       "</div>"
      ],
      "text/plain": [
       "                                    train      test\n",
       "cvec Logisitc Regression scores  0.985821  0.977273\n",
       "cvec MultinomialNB scores        0.976866  0.967424\n",
       "cvec Random Forest scores        0.986940  0.981061\n",
       "cvec SVC scores                  0.985821  0.976515\n",
       "cvec XGBoost scores              0.847761  0.800758\n",
       "tvec Logisitc Regression scores  0.986567  0.978788\n",
       "tvec MultinomialNB scores        0.986567  0.978788\n",
       "tvec Random Forest scores        0.986940  0.980303\n",
       "tvec SVC scores                  0.986940  0.980303\n",
       "tvec XGBoost scores              0.869030  0.831818"
      ]
     },
     "execution_count": 206,
     "metadata": {},
     "output_type": "execute_result"
    }
   ],
   "source": [
    "tvec_df = pd.DataFrame({'tvec Logisitc Regression scores': [gs_lr_tvec.score(X_train,y_train),gs_lr_tvec.score(X_test,y_test)],\n",
    "                        'tvec MultinomialNB scores': [gs_mb_tvec.score(X_train,y_train) ,gs_mb_tvec.score(X_test,y_test)],\n",
    "                        'tvec Random Forest scores': [gs_rf_tvec.score(X_train,y_train), gs_rf_tvec.score(X_test,y_test)],\n",
    "                        'tvec SVC scores': [gs_svc_tvec.score(X_train,y_train), gs_svc_tvec.score(X_test,y_test)],\n",
    "                        'tvec XGBoost scores': [gs_xgb_tvec.score(X_train,y_train), gs_xgb_tvec.score(X_test,y_test)]},\n",
    "                        index=['train', 'test']).T\n",
    "\n",
    "\n",
    "\n",
    "cvec_df = pd.DataFrame({'cvec Logisitc Regression scores': [gs_lr_cvec.score(X_train,y_train),gs_lr_cvec.score(X_test,y_test)],\n",
    "                        'cvec MultinomialNB scores': [gs_mb_cvec.score(X_train,y_train) ,gs_mb_cvec.score(X_test,y_test)],\n",
    "                        'cvec Random Forest scores': [gs_rf_cvec.score(X_train,y_train), gs_rf_cvec.score(X_test,y_test)],\n",
    "                        'cvec SVC scores': [gs_svc_cvec.score(X_train,y_train), gs_svc_cvec.score(X_test,y_test)],\n",
    "                        'cvec XGBoost scores': [gs_xgb_cvec.score(X_train,y_train), gs_xgb_cvec.score(X_test,y_test)]},\n",
    "                        index=['train', 'test']).T\n",
    "\n",
    "gridsearch_df = pd.concat([cvec_df,tvec_df])\n",
    "\n",
    "gridsearch_df"
   ]
  },
  {
   "cell_type": "markdown",
   "metadata": {},
   "source": [
    "The best scores are from our Random Forest Model using the CountVectorizer Transformer. "
   ]
  },
  {
   "cell_type": "code",
   "execution_count": 207,
   "metadata": {},
   "outputs": [
    {
     "data": {
      "text/html": [
       "<div>\n",
       "<style scoped>\n",
       "    .dataframe tbody tr th:only-of-type {\n",
       "        vertical-align: middle;\n",
       "    }\n",
       "\n",
       "    .dataframe tbody tr th {\n",
       "        vertical-align: top;\n",
       "    }\n",
       "\n",
       "    .dataframe thead th {\n",
       "        text-align: right;\n",
       "    }\n",
       "</style>\n",
       "<table border=\"1\" class=\"dataframe\">\n",
       "  <thead>\n",
       "    <tr style=\"text-align: right;\">\n",
       "      <th></th>\n",
       "      <th>Best Params</th>\n",
       "    </tr>\n",
       "  </thead>\n",
       "  <tbody>\n",
       "    <tr>\n",
       "      <th>cvec__max_df</th>\n",
       "      <td>0.95</td>\n",
       "    </tr>\n",
       "    <tr>\n",
       "      <th>cvec__max_features</th>\n",
       "      <td>4000.00</td>\n",
       "    </tr>\n",
       "    <tr>\n",
       "      <th>cvec__min_df</th>\n",
       "      <td>2.00</td>\n",
       "    </tr>\n",
       "    <tr>\n",
       "      <th>cvec__ngram_range</th>\n",
       "      <td>1.00</td>\n",
       "    </tr>\n",
       "    <tr>\n",
       "      <th>rf__n_estimators</th>\n",
       "      <td>150.00</td>\n",
       "    </tr>\n",
       "  </tbody>\n",
       "</table>\n",
       "</div>"
      ],
      "text/plain": [
       "                    Best Params\n",
       "cvec__max_df               0.95\n",
       "cvec__max_features      4000.00\n",
       "cvec__min_df               2.00\n",
       "cvec__ngram_range          1.00\n",
       "rf__n_estimators         150.00"
      ]
     },
     "execution_count": 207,
     "metadata": {},
     "output_type": "execute_result"
    }
   ],
   "source": [
    "bp_df = pd.DataFrame(gs_rf_cvec.best_params_,index=['Best Params','bp']).T.head(10)\n",
    "\n",
    "bp_df.drop(columns = 'bp', inplace = True)\n",
    "\n",
    "bp_df"
   ]
  },
  {
   "cell_type": "markdown",
   "metadata": {},
   "source": [
    "# Random Forest Classification Model\n",
    "----"
   ]
  },
  {
   "cell_type": "code",
   "execution_count": 294,
   "metadata": {},
   "outputs": [
    {
     "data": {
      "text/plain": [
       "RandomForestClassifier(n_estimators=150)"
      ]
     },
     "execution_count": 294,
     "metadata": {},
     "output_type": "execute_result"
    }
   ],
   "source": [
    "X = df['title']\n",
    "\n",
    "y = df['subreddit']\n",
    "\n",
    "X_train, X_test, y_train, y_test = train_test_split(X,\n",
    "                                                   y,\n",
    "                                                   test_size = .33,\n",
    "                                                   random_state=808)\n",
    "\n",
    "# --------------------------------\n",
    "\n",
    "cvec = CountVectorizer(max_df = 0.95, max_features=4000, ngram_range=(1,1), stop_words='english')\n",
    "X_train = cvec.fit_transform(X_train)\n",
    "X_test = cvec.transform(X_test)\n",
    "\n",
    "# --------------------------------\n",
    "\n",
    "rf = RandomForestClassifier(n_estimators=150)\n",
    "rf.fit(X_train,y_train)"
   ]
  },
  {
   "cell_type": "code",
   "execution_count": 299,
   "metadata": {},
   "outputs": [
    {
     "data": {
      "text/plain": [
       "array([317,   0,   0,   3])"
      ]
     },
     "execution_count": 299,
     "metadata": {},
     "output_type": "execute_result"
    }
   ],
   "source": [
    "tn"
   ]
  },
  {
   "cell_type": "code",
   "execution_count": 309,
   "metadata": {},
   "outputs": [
    {
     "data": {
      "text/html": [
       "<div>\n",
       "<style scoped>\n",
       "    .dataframe tbody tr th:only-of-type {\n",
       "        vertical-align: middle;\n",
       "    }\n",
       "\n",
       "    .dataframe tbody tr th {\n",
       "        vertical-align: top;\n",
       "    }\n",
       "\n",
       "    .dataframe thead th {\n",
       "        text-align: right;\n",
       "    }\n",
       "</style>\n",
       "<table border=\"1\" class=\"dataframe\">\n",
       "  <thead>\n",
       "    <tr style=\"text-align: right;\">\n",
       "      <th></th>\n",
       "      <th>precision</th>\n",
       "      <th>recall</th>\n",
       "      <th>f1-score</th>\n",
       "      <th>support</th>\n",
       "      <th>Test Accuracy</th>\n",
       "      <th>Train Accuracy</th>\n",
       "    </tr>\n",
       "  </thead>\n",
       "  <tbody>\n",
       "    <tr>\n",
       "      <th>android</th>\n",
       "      <td>0.943452</td>\n",
       "      <td>0.990625</td>\n",
       "      <td>0.966463</td>\n",
       "      <td>320.000000</td>\n",
       "      <td>0.980303</td>\n",
       "      <td>0.98694</td>\n",
       "    </tr>\n",
       "    <tr>\n",
       "      <th>apple</th>\n",
       "      <td>0.987692</td>\n",
       "      <td>0.993808</td>\n",
       "      <td>0.990741</td>\n",
       "      <td>323.000000</td>\n",
       "      <td>0.980303</td>\n",
       "      <td>0.98694</td>\n",
       "    </tr>\n",
       "    <tr>\n",
       "      <th>iphone</th>\n",
       "      <td>1.000000</td>\n",
       "      <td>0.988304</td>\n",
       "      <td>0.994118</td>\n",
       "      <td>342.000000</td>\n",
       "      <td>0.980303</td>\n",
       "      <td>0.98694</td>\n",
       "    </tr>\n",
       "    <tr>\n",
       "      <th>samsung</th>\n",
       "      <td>0.990654</td>\n",
       "      <td>0.949254</td>\n",
       "      <td>0.969512</td>\n",
       "      <td>335.000000</td>\n",
       "      <td>0.980303</td>\n",
       "      <td>0.98694</td>\n",
       "    </tr>\n",
       "    <tr>\n",
       "      <th>accuracy</th>\n",
       "      <td>0.980303</td>\n",
       "      <td>0.980303</td>\n",
       "      <td>0.980303</td>\n",
       "      <td>0.980303</td>\n",
       "      <td>0.980303</td>\n",
       "      <td>0.98694</td>\n",
       "    </tr>\n",
       "    <tr>\n",
       "      <th>macro avg</th>\n",
       "      <td>0.980450</td>\n",
       "      <td>0.980498</td>\n",
       "      <td>0.980208</td>\n",
       "      <td>1320.000000</td>\n",
       "      <td>0.980303</td>\n",
       "      <td>0.98694</td>\n",
       "    </tr>\n",
       "    <tr>\n",
       "      <th>weighted avg</th>\n",
       "      <td>0.980908</td>\n",
       "      <td>0.980303</td>\n",
       "      <td>0.980343</td>\n",
       "      <td>1320.000000</td>\n",
       "      <td>0.980303</td>\n",
       "      <td>0.98694</td>\n",
       "    </tr>\n",
       "  </tbody>\n",
       "</table>\n",
       "</div>"
      ],
      "text/plain": [
       "              precision    recall  f1-score      support  Test Accuracy  \\\n",
       "android        0.943452  0.990625  0.966463   320.000000       0.980303   \n",
       "apple          0.987692  0.993808  0.990741   323.000000       0.980303   \n",
       "iphone         1.000000  0.988304  0.994118   342.000000       0.980303   \n",
       "samsung        0.990654  0.949254  0.969512   335.000000       0.980303   \n",
       "accuracy       0.980303  0.980303  0.980303     0.980303       0.980303   \n",
       "macro avg      0.980450  0.980498  0.980208  1320.000000       0.980303   \n",
       "weighted avg   0.980908  0.980303  0.980343  1320.000000       0.980303   \n",
       "\n",
       "              Train Accuracy  \n",
       "android              0.98694  \n",
       "apple                0.98694  \n",
       "iphone               0.98694  \n",
       "samsung              0.98694  \n",
       "accuracy             0.98694  \n",
       "macro avg            0.98694  \n",
       "weighted avg         0.98694  "
      ]
     },
     "execution_count": 309,
     "metadata": {},
     "output_type": "execute_result"
    }
   ],
   "source": [
    "# from sklearn.metrics import multilabel_confusion_matrix\n",
    "\n",
    "train_acc = rf.score(X_train,y_train)\n",
    "\n",
    "test_acc = rf.score(X_test,y_test)\n",
    "\n",
    "preds = rf.predict(X_test)\n",
    "\n",
    "# num_classes = 4\n",
    "\n",
    "# y_categorial = np.eye(num_classes)[preds]\n",
    "\n",
    "# # from categorial to lable indexing\n",
    "# preds = y_categorial.argmax(1)\n",
    "\n",
    "tn, fp, fn, tp = confusion_matrix(y_test, preds)\n",
    "\n",
    "# --------------------------------\n",
    "\n",
    "# accuracy = (tp +tn) / (tp+fp+fn+tn)\n",
    "\n",
    "# precision = tp / (tp+fp)\n",
    "\n",
    "# sensitivity = tp / (tp+fn)\n",
    "\n",
    "# specificity = tn / (tn+fp)\n",
    "\n",
    "# f1 = 2*(sensitivity*precision) / (sensitivity+precision) \n",
    "\n",
    "# --------------------------------\n",
    "\n",
    "rf_scores = pd.DataFrame(classification_report(y_test, preds, output_dict=True, target_names = ['android', 'apple', 'iphone', 'samsung'])).T\n",
    "rf_scores['Test Accuracy'] = test_acc\n",
    "rf_scores['Train Accuracy'] = train_acc\n",
    "# --------------------------------\n",
    "rf_scores"
   ]
  },
  {
   "cell_type": "code",
   "execution_count": 291,
   "metadata": {},
   "outputs": [
    {
     "data": {
      "image/png": "[encoded data removed]",
      "text/plain": [
       "<Figure size 640x480 with 2 Axes>"
      ]
     },
     "metadata": {},
     "output_type": "display_data"
    }
   ],
   "source": [
    "plot_confusion_matrix(rf, X_test, y_test, cmap='PuBuGn', values_format='d', display_labels=['android', 'apple', 'iphone', 'samsung']);\n",
    "\n",
    "# plt.savefig('./confusionm.png', dpi=500)"
   ]
  },
  {
   "cell_type": "markdown",
   "metadata": {},
   "source": [
    "# Conclusion\n",
    "___\n",
    "\n",
    "Our Model Performed exceptionally well. We were able to predict accurately 98% of the time. After numerous test and analysis, their seems to be no identifiable flaw in our model, and after testing it on multiple sources of unseen data, we can conclude that for the purposes set out in this project, that this model was succesful. "
   ]
  },
  {
   "cell_type": "code",
   "execution_count": null,
   "metadata": {},
   "outputs": [],
   "source": []
  }
 ],
 "metadata": {
  "kernelspec": {
   "display_name": "Python 3",
   "language": "python",
   "name": "python3"
  },
  "language_info": {
   "codemirror_mode": {
    "name": "ipython",
    "version": 3
   },
   "file_extension": ".py",
   "mimetype": "text/x-python",
   "name": "python",
   "nbconvert_exporter": "python",
   "pygments_lexer": "ipython3",
   "version": "3.8.5"
  }
 },
 "nbformat": 4,
 "nbformat_minor": 4
}
